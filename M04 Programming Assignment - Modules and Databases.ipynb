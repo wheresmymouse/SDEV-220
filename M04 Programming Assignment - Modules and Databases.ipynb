{
 "cells": [
  {
   "attachments": {},
   "cell_type": "markdown",
   "metadata": {},
   "source": [
    "Kyle Shumate\n",
    "SDEV-220\n",
    "M04 Programming Assignment - Modules and Databases\n",
    "Description:  Textbook assignments for Chapters 11, 16.\n"
   ]
  },
  {
   "attachments": {},
   "cell_type": "markdown",
   "metadata": {},
   "source": [
    "Complete the following steps:\n",
    "In your text book, navigate to the end of Chapter 11 and 16 to the section titled \"Things to Do\"\n",
    "Complete the following sections in your Jupyter Notebook:\n",
    "11.1\n",
    "11.2\n",
    "16.8\n",
    "Make sure both answer the prompts(if given) and complete the Python interactive interpreter piece for each question\n",
    "You can do this in Jupyter notebooks by inserting code to complete the interactive interpreter piece and adding markdown to answer the prompts (if given) for each question"
   ]
  },
  {
   "attachments": {},
   "cell_type": "markdown",
   "metadata": {},
   "source": [
    "11.1 Create a file called zoo.py. In it, define a function called hours() that prints the string 'Open 9-5 daily'. Then, use the interactive interpreter to import the zoo module and call its hours() function."
   ]
  },
  {
   "cell_type": "code",
   "execution_count": null,
   "metadata": {},
   "outputs": [],
   "source": [
    "# I created another file called \"zoo.py\" and inserted this code\n",
    "# It doesn't seem to hurt anything if I leave it in here, as well\n",
    "\n",
    "def hours():\n",
    "    print('Open 9-5 Daily')"
   ]
  },
  {
   "attachments": {},
   "cell_type": "markdown",
   "metadata": {},
   "source": [
    "11.2 In the interactive interpreter, import the zoo module as menagerie and call its hours() function."
   ]
  },
  {
   "cell_type": "code",
   "execution_count": null,
   "metadata": {},
   "outputs": [],
   "source": [
    "#import sys \n",
    "#import os\n",
    "#sys.path.append(os.path.abspath(\"C:\\Users\\kpshu\\OneDrive\\Documents\\School\\Software Development - 220\\SDEV-220\"))\n",
    "#from zoo import *\n",
    "#hours()\n",
    "\n",
    "#print(hours)"
   ]
  },
  {
   "cell_type": "code",
   "execution_count": null,
   "metadata": {},
   "outputs": [],
   "source": [
    "#import sys \n",
    "#import os\n",
    "import zoo as menagerie\n",
    "menagerie.hours()\n",
    "\n",
    "print(hours)"
   ]
  },
  {
   "attachments": {},
   "cell_type": "markdown",
   "metadata": {},
   "source": [
    "16.8 Use the sqlalchemy module to connect to the sqlite3 database books.db that you just made in exercise 16.4. As in 16.6, select and print the title column from the book table in alphabetical order."
   ]
  },
  {
   "cell_type": "code",
   "execution_count": null,
   "metadata": {},
   "outputs": [],
   "source": [
    "import sqlite3 ;cx = sqlite3.connect(\"book.db\")\n",
    "\n",
    "from sqlalchemy import create_engine, Column, Integer, String\n",
    "from sqlalchemy.orm import sessionmaker\n",
    "from sqlalchemy.ext.declarative import declarative_base\n",
    "\n",
    "\n",
    "\n",
    "engine = create_engine('sqlite:///books.db')\n",
    "\n",
    "# object for session\n",
    "\n",
    "Session = sessionmaker(bind=engine)\n",
    "session = Session()\n",
    "\n",
    "# define class for book, create table\n",
    "\n",
    "Base = declarative_base()\n",
    "class Book(Base):\n",
    "    __tablename__ = 'books'\n",
    "    title = Column(String, primary_key=True)\n",
    "    author = Column(String)\n",
    "    year = Column(Integer)\n",
    "\n",
    "books = session.query(Book).order_by(Book.title)\n",
    "\n",
    "# output title\n",
    "\n",
    "for book in books:\n",
    "    print(book.title)\n",
    "\n",
    "# close when done\n",
    "\n",
    "session.close()"
   ]
  }
 ],
 "metadata": {
  "kernelspec": {
   "display_name": "Python 3",
   "language": "python",
   "name": "python3"
  },
  "language_info": {
   "codemirror_mode": {
    "name": "ipython",
    "version": 3
   },
   "file_extension": ".py",
   "mimetype": "text/x-python",
   "name": "python",
   "nbconvert_exporter": "python",
   "pygments_lexer": "ipython3",
   "version": "3.10.7"
  },
  "orig_nbformat": 4,
  "vscode": {
   "interpreter": {
    "hash": "e8a914dec12599dd06a2bcc1d4cfd5a9ddb25d6f94d43093900ef6128487ba86"
   }
  }
 },
 "nbformat": 4,
 "nbformat_minor": 2
}
