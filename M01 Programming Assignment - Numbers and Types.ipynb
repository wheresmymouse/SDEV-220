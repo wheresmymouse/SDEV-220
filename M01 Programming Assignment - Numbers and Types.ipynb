{
 "cells": [
  {
   "attachments": {},
   "cell_type": "markdown",
   "metadata": {},
   "source": [
    "Kyle Shumate\n",
    "SDEV-220\n",
    "29 Jan 2023"
   ]
  },
  {
   "cell_type": "markdown",
   "metadata": {},
   "source": [
    "The purpose of this assignment is to practice and implement learning from Chapter 1 - Chapter 3\n",
    "\n",
    "Complete the following steps:\n",
    "In your text book, navigate to the end of Chapter 3 to the section titled \"Things to Do\"\n",
    "Complete sections 3.1 through 3.6 utilizing your Jupyter Notebook\n",
    "Make sure both answer the prompts(if given) and complete the Python interactive interpreter piece for each question\n",
    "You can do this in Jupyter notebooks by inserting code to complete the interactive interpreter piece and adding markdown to answer the prompts (if given) for each question\n",
    "Submitting your Assignment/What To Turn In\n",
    "After completing/reading the above assignment, do the following:\n",
    "In your Jupyter notebook click of File -> Download as -> Notebook\n",
    "This should save a .ipynb file to your folder location that you specify\n",
    "Upload the ipynb file that you created into a Github repository.  Github will automatically render the notebook in the browser.\n",
    "Click the Submit button and copy and paste the URL to your Github repository"
   ]
  },
  {
   "attachments": {},
   "cell_type": "markdown",
   "metadata": {},
   "source": [
    "3.1 How many seconds are in an hour? Use the interactive interpreter as a calculator and multiply the number of seconds in a minute (60) by the number of minutes in an hour (also 60)."
   ]
  },
  {
   "cell_type": "code",
   "execution_count": 11,
   "metadata": {},
   "outputs": [
    {
     "name": "stdout",
     "output_type": "stream",
     "text": [
      "There are  3600 seconds in an hour.\n"
     ]
    }
   ],
   "source": [
    "\n",
    "# define variables\n",
    "\n",
    "seconds = 1\n",
    "minutes = 1\n",
    "total = 1\n",
    "\n",
    "# use variables instead of just writing \"60 * 60 = 3600\"\n",
    "\n",
    "minutes = seconds * 60\n",
    "total = minutes * minutes\n",
    "\n",
    "# print statement to display output\n",
    "# removed because it didn't actually tell me to do that...\n",
    "\n",
    "#print(\"There are \", total, \"seconds in an hour.\")"
   ]
  },
  {
   "attachments": {},
   "cell_type": "markdown",
   "metadata": {},
   "source": [
    "3.2 Assign the result from the previous task (seconds in an hour) to a variable called seconds_per_hour."
   ]
  },
  {
   "cell_type": "code",
   "execution_count": null,
   "metadata": {},
   "outputs": [],
   "source": [
    "#seconds_per_hour = total\n",
    "\n",
    "seconds_per_hour = 3600"
   ]
  },
  {
   "attachments": {},
   "cell_type": "markdown",
   "metadata": {},
   "source": [
    "3.3 How many seconds are in a day? Use your seconds_per_hour variable."
   ]
  },
  {
   "cell_type": "code",
   "execution_count": 12,
   "metadata": {},
   "outputs": [
    {
     "name": "stdout",
     "output_type": "stream",
     "text": [
      "There are  86400 seconds in a day.\n"
     ]
    }
   ],
   "source": [
    "seconds_per_hour = 3600\n",
    "hours_per_day = 24\n",
    "\n",
    "seconds_per_day = seconds_per_hour * hours_per_day\n",
    "\n",
    "# print statement removed again\n",
    "\n",
    "#print(\"There are \", seconds_per_day, \"seconds in a day.\")"
   ]
  },
  {
   "attachments": {},
   "cell_type": "markdown",
   "metadata": {},
   "source": [
    "3.4 Calculate seconds per day again, but this time save the result in a variable called seconds_per_day."
   ]
  },
  {
   "cell_type": "code",
   "execution_count": null,
   "metadata": {},
   "outputs": [],
   "source": [
    "# I did that the first time so I just copied it\n",
    "\n",
    "seconds_per_hour = 3600\n",
    "hours_per_day = 24\n",
    "\n",
    "seconds_per_day = seconds_per_hour * hours_per_day\n",
    "\n",
    "# print statement removed again\n",
    "\n",
    "#print(\"There are \", seconds_per_day, \"seconds in a day.\")"
   ]
  },
  {
   "attachments": {},
   "cell_type": "markdown",
   "metadata": {},
   "source": [
    "3.5 Divide seconds_per_day by seconds_per_hour. Use floating-point (/) division."
   ]
  },
  {
   "cell_type": "code",
   "execution_count": 13,
   "metadata": {},
   "outputs": [
    {
     "name": "stdout",
     "output_type": "stream",
     "text": [
      "24.0\n"
     ]
    }
   ],
   "source": [
    "\n",
    "hbd = seconds_per_day / seconds_per_hour\n",
    "\n",
    "#print(hbd)"
   ]
  },
  {
   "attachments": {},
   "cell_type": "markdown",
   "metadata": {},
   "source": [
    "3.6 Divide seconds_per_day by seconds_per_hour, using integer (//) division. Did this number agree with the floating-point value from the previous question, aside from the final .0?"
   ]
  },
  {
   "cell_type": "code",
   "execution_count": 14,
   "metadata": {},
   "outputs": [
    {
     "name": "stdout",
     "output_type": "stream",
     "text": [
      "24\n"
     ]
    }
   ],
   "source": [
    "hbd2 = seconds_per_day // seconds_per_hour\n",
    "\n",
    "#print(hbd2)"
   ]
  },
  {
   "attachments": {},
   "cell_type": "markdown",
   "metadata": {},
   "source": [
    "The answer to the question in 3.6 is \"yes\": the number is the same as an integer or floating-point number because it is a whole number."
   ]
  }
 ],
 "metadata": {
  "kernelspec": {
   "display_name": "Python 3",
   "language": "python",
   "name": "python3"
  },
  "language_info": {
   "codemirror_mode": {
    "name": "ipython",
    "version": 3
   },
   "file_extension": ".py",
   "mimetype": "text/x-python",
   "name": "python",
   "nbconvert_exporter": "python",
   "pygments_lexer": "ipython3",
   "version": "3.10.7"
  },
  "orig_nbformat": 4,
  "vscode": {
   "interpreter": {
    "hash": "e8a914dec12599dd06a2bcc1d4cfd5a9ddb25d6f94d43093900ef6128487ba86"
   }
  }
 },
 "nbformat": 4,
 "nbformat_minor": 2
}
