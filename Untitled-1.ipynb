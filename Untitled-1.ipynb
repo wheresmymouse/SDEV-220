{
 "cells": [
  {
   "attachments": {},
   "cell_type": "markdown",
   "metadata": {},
   "source": [
    "Write a Python app that has the following classes:\n",
    "A super class called Vehicle, which contains an attribute for vehicle type, such as car, truck, plane, boat, or a broomstick.\n",
    "A class called Automobile which will inherit the attributes from Vehicle and also contain the following attributes:\n",
    "year\n",
    "make\n",
    "model\n",
    "doors (2 or 4)\n",
    "roof (solid or sun roof).\n",
    "Write an app that will accept user input for a car. The app will store \"car\" into the vehicle type in your Vehicle super class. \n",
    "The app will then ask the user for the year, make, model, doors, and type of roof and store thdata in the attributes above.\n",
    "The app will then output the data in an easy-to-read and understandable format, such as this:\n",
    "  Vehicle type: car\n",
    "  Year: 2022\n",
    "  Make: Toyota\n",
    "  Model: Corolla\n",
    "  Number of doors: 4\n",
    "  Type of roof: sun roof"
   ]
  },
  {
   "cell_type": "code",
   "execution_count": 21,
   "metadata": {},
   "outputs": [
    {
     "ename": "IndentationError",
     "evalue": "unexpected indent (3473302209.py, line 20)",
     "output_type": "error",
     "traceback": [
      "\u001b[1;36m  Cell \u001b[1;32mIn[21], line 20\u001b[1;36m\u001b[0m\n\u001b[1;33m    class Car:\u001b[0m\n\u001b[1;37m    ^\u001b[0m\n\u001b[1;31mIndentationError\u001b[0m\u001b[1;31m:\u001b[0m unexpected indent\n"
     ]
    }
   ],
   "source": [
    "class Vehicle:\n",
    "\n",
    "    def __init__(self, car, truck, plane, boat, broomstick):\n",
    "        self.car = car\n",
    "        self.truck = truck\n",
    "        self.plane = plane\n",
    "        self.boat = boat\n",
    "        self.broomstick = broomstick\n",
    "\n",
    "\n",
    "    # As already defined\n",
    "    def getCar(self): ...\n",
    "    def getTruck(self): ...\n",
    "    def getPlane(self): ...\n",
    "    def getBoat(self): ...\n",
    "    def getBroomstick(self): ...\n",
    "\n",
    "    getVehicle = input(\"Which type of vehicle would you like?\")\n",
    "    if getVehicle == \"car\":\n",
    "\n",
    "\n",
    "        class Car:\n",
    "            def __init__(self, year, make, model, doors, roof):\n",
    "                super().init(Vehicle)\n",
    "                self.year = year\n",
    "                self.make = make\n",
    "                self.model = model\n",
    "                self.doors = doors\n",
    "                self.roof = roof\n",
    "\n",
    "            def getYear(self):\n",
    "                self.year = input('Please enter the vehicle year: ')\n",
    "\n",
    "            def getMake(self):\n",
    "                self.make = input('Please enter the vehicle make: ')\n",
    "        \n",
    "\n",
    "            def getModel(self):\n",
    "                self.model = input('Please enter the vehicle model: ')\n",
    "        \n",
    "\n",
    "            def getDoors(self):\n",
    "                self.doors = input('Please enter the number of doors (2, 4): ')\n",
    "                if self.doors > 4:\n",
    "                    print(\"Please try again with a more reasonable number of doors.\")\n",
    "                else:\n",
    "        \n",
    "                    def getRoof(self):\n",
    "                        self.roof = input('Please enter the type of roof (\"solid roof\" or \"sun roof\"): ')\n",
    "\n",
    "                print(self.year, self.make, self.model, self.doors, self.roof)\n",
    "\n",
    "    elif getVehicle ==\"truck\":\n",
    "        print(\"Trucks waste gasoline.\")\n",
    "\n",
    "    elif getVehicle == \"plane\":\n",
    "        print(\"I do not have a pilot's license.\")\n",
    "\n",
    "    elif getVehicle ==\"boat\":\n",
    "        print(\"Boats are expensive.\")\n",
    "\n",
    "    elif getVehicle == \"broomstick\":\n",
    "        print(\"Witches get burned at the stake.\")\n",
    "\n",
    "    else:\n",
    "        print(\"Invalid entry.\")\n",
    "\n",
    " #       def getYear(self): ...\n",
    " #       def getMake(self): ...\n",
    " #       def getModel(self): ...\n",
    " #       def getDoors(self): ...\n",
    " #       def getRoof(self): ...\n",
    "\n",
    "    \n"
   ]
  }
 ],
 "metadata": {
  "kernelspec": {
   "display_name": "Python 3",
   "language": "python",
   "name": "python3"
  },
  "language_info": {
   "codemirror_mode": {
    "name": "ipython",
    "version": 3
   },
   "file_extension": ".py",
   "mimetype": "text/x-python",
   "name": "python",
   "nbconvert_exporter": "python",
   "pygments_lexer": "ipython3",
   "version": "3.10.7 (tags/v3.10.7:6cc6b13, Sep  5 2022, 14:08:36) [MSC v.1933 64 bit (AMD64)]"
  },
  "orig_nbformat": 4,
  "vscode": {
   "interpreter": {
    "hash": "e8a914dec12599dd06a2bcc1d4cfd5a9ddb25d6f94d43093900ef6128487ba86"
   }
  }
 },
 "nbformat": 4,
 "nbformat_minor": 2
}
