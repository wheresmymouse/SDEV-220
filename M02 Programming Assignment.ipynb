{
 "cells": [
  {
   "attachments": {},
   "cell_type": "markdown",
   "metadata": {},
   "source": [
    "Complete the following steps:\n",
    "In your text book, navigate to the end of Chapter 4 and Chapter 6 to the section titled \"Things to Do\"\n",
    "Complete the following sections in your Jupyter Notebook:\n",
    "4.1\n",
    "4.2\n",
    "6.1\n",
    "6.2\n",
    "6.3\n",
    "Make sure both answer the prompts(if given) and complete the Python interactive interpreter piece for each question\n",
    "You can do this in Jupyter notebooks by inserting code to complete the interactive interpreter piece and adding markdown to answer the prompts (if given) for each question"
   ]
  },
  {
   "attachments": {},
   "cell_type": "markdown",
   "metadata": {},
   "source": [
    "4.1 Choose a number between 1 and 10 and assign it to the variable secret. Then, select another number between 1 and 10 and assign it to the variable guess. Next, write the conditional tests (if, else, and elif) to print the string 'too low' if guess is less than secret, 'too high' if greater than secret, and 'just right' if equal to secret."
   ]
  },
  {
   "cell_type": "code",
   "execution_count": null,
   "metadata": {},
   "outputs": [],
   "source": [
    "#4.1\n",
    "\n",
    "secret = 6\n",
    "guess = 4\n",
    "\n",
    "if guess > 6:\n",
    "    print('too high')\n",
    "\n",
    "elif guess < 6:\n",
    "    print('too low')\n",
    "\n",
    "else:\n",
    "    print('just right')\n",
    "\n"
   ]
  },
  {
   "attachments": {},
   "cell_type": "markdown",
   "metadata": {},
   "source": [
    "4.2 Assign True or False to the variables small and green. Write some if/else statements to print which of these matches those choices: cherry, pea, watermelon, pumpkin."
   ]
  },
  {
   "cell_type": "code",
   "execution_count": 5,
   "metadata": {},
   "outputs": [
    {
     "name": "stdout",
     "output_type": "stream",
     "text": [
      "small = False\n",
      "green = True\n"
     ]
    }
   ],
   "source": [
    "small = True\n",
    "green = True\n",
    "letout = True\n",
    "\n",
    "# it didn't say anything about an input statement or output but it's easier to check this way\n",
    "\n",
    "thing = input('cherry, pea, watermelon, or pumpkin')\n",
    "\n",
    "if thing == 'cherry':\n",
    "    small = True\n",
    "    green = False\n",
    "\n",
    "# cherries can be green... but most ripe cherries are red\n",
    "# pretty sure they were intentionally looking for all four combinations of T/F\n",
    "\n",
    "elif thing == 'pea':\n",
    "    small = True\n",
    "    green = True\n",
    "\n",
    "elif thing == 'watermelon':\n",
    "    small = False\n",
    "    green = True\n",
    "\n",
    "elif thing == 'pumpkin':\n",
    "    small = False\n",
    "    green = False\n",
    "\n",
    "# did not want it to print values for an invalid entry, it would just print whatever static value it started as and be confusing\n",
    "\n",
    "else:\n",
    "    print('invalid entry: CHERRY, PEA, WATERMELON, or PUMPKIN')\n",
    "    letout = False\n",
    "\n",
    "if letout == True:\n",
    "    print(\"small =\", small)\n",
    "    print(\"green =\", green)\n"
   ]
  },
  {
   "attachments": {},
   "cell_type": "markdown",
   "metadata": {},
   "source": [
    "6.1 Use a for loop to print the values of the list [3, 2, 1, 0]."
   ]
  },
  {
   "cell_type": "code",
   "execution_count": 2,
   "metadata": {},
   "outputs": [
    {
     "name": "stdout",
     "output_type": "stream",
     "text": [
      "3\n",
      "2\n",
      "1\n",
      "0\n"
     ]
    }
   ],
   "source": [
    "# not_array = [3, 2, 1, 0]\n",
    "\n",
    "\n",
    "for i in [3, 2, 1, 0]:\n",
    "    print(i) \n"
   ]
  },
  {
   "attachments": {},
   "cell_type": "markdown",
   "metadata": {},
   "source": [
    "6.2 Assign the value 7 to the variable guess_me, and the value 1 to the variable number. Write a while loop that compares number with guess_me. Print 'too low' if number is less than guess me. If number equals guess_me, print 'found it!' and then exit the loop. If number is greater than guess_me, print 'oops' and then exit the loop. Increment number at the end of the loop."
   ]
  },
  {
   "cell_type": "code",
   "execution_count": 5,
   "metadata": {},
   "outputs": [
    {
     "name": "stdout",
     "output_type": "stream",
     "text": [
      "too low\n",
      "too low\n",
      "too low\n",
      "too low\n",
      "too low\n",
      "too low\n",
      "found it!\n",
      "Guesses: 7\n"
     ]
    }
   ],
   "source": [
    "# assign variables\n",
    "\n",
    "guess_me = 7\n",
    "number = 1\n",
    "count = 0\n",
    "\n",
    "# while statement\n",
    "# loop counter\n",
    "\n",
    "while number < guess_me:\n",
    "    count = count + 1\n",
    "    number = number + 1\n",
    "    print('too low')\n",
    "\n",
    "if number == guess_me:\n",
    "    count = count + 1\n",
    "    print('found it!')\n",
    "    exit\n",
    "\n",
    "else:\n",
    "    count = count + 1\n",
    "    print('oops')\n",
    "    exit\n",
    "\n",
    "# output count\n",
    "\n",
    "print(\"Guesses:\",count)"
   ]
  },
  {
   "attachments": {},
   "cell_type": "markdown",
   "metadata": {},
   "source": [
    "6.3 Assign the value 5 to the variable guess_me. Use a for loop to iterate a variable called number over range(10). If number is less than guess_me, print 'too low'. If it equals guess_me, print found it! and then break out of the for loop. If number is greater than guess_me, print 'oops' and then exit the loop."
   ]
  },
  {
   "cell_type": "code",
   "execution_count": 19,
   "metadata": {},
   "outputs": [
    {
     "name": "stdout",
     "output_type": "stream",
     "text": [
      "too low\n",
      "too low\n",
      "too low\n",
      "too low\n",
      "found it!\n"
     ]
    }
   ],
   "source": [
    "guess_me = 5\n",
    "number = [1,2,3,4,5,6,7,8,9,10]\n",
    "\n",
    "for number in range(1,10):\n",
    "\n",
    "    if number < guess_me:\n",
    "        print(\"too low\")\n",
    "        number += 1\n",
    "\n",
    "    elif number == guess_me:\n",
    "        print(\"found it!\")\n",
    "        break\n",
    "\n",
    "    else:\n",
    "        print(\"oops\")\n",
    "        exit\n",
    "\n"
   ]
  }
 ],
 "metadata": {
  "kernelspec": {
   "display_name": "Python 3",
   "language": "python",
   "name": "python3"
  },
  "language_info": {
   "codemirror_mode": {
    "name": "ipython",
    "version": 3
   },
   "file_extension": ".py",
   "mimetype": "text/x-python",
   "name": "python",
   "nbconvert_exporter": "python",
   "pygments_lexer": "ipython3",
   "version": "3.10.7"
  },
  "orig_nbformat": 4,
  "vscode": {
   "interpreter": {
    "hash": "e8a914dec12599dd06a2bcc1d4cfd5a9ddb25d6f94d43093900ef6128487ba86"
   }
  }
 },
 "nbformat": 4,
 "nbformat_minor": 2
}
