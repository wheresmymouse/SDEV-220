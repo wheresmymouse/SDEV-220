{
 "cells": [
  {
   "attachments": {},
   "cell_type": "markdown",
   "metadata": {},
   "source": [
    "###\n",
    "Kyle Shumate\n",
    "M02 Lab\n",
    "SDEV-220\n",
    "Dean's List testing program:  The program compares students' GPAs to the requirements for meeting Dean's List or Honor Roll and outputs their status.\n",
    "    It will continue until the user tells it to stop by entering \"zzz\".\n",
    "###"
   ]
  },
  {
   "attachments": {},
   "cell_type": "markdown",
   "metadata": {},
   "source": [
    "Write a Python app that will accept student names and GPAs and test if the student qualifies for either the Dean's List or the Honor Roll. Your app will:\n",
    "ask for and accept a student's last name.\n",
    "quit processing student records if the last name entered is 'ZZZ'.\n",
    "ask for and accept a student's first name.\n",
    "ask for and accept the student's GPA as a float.\n",
    "test if the student's GPA is 3.5 or greater and, if so, print a message saying that the student has made the Dean's List.\n",
    "test if the student's GPA is 3.25 or greater and, if so, print a message saying that the studnet has made the Honor Roll.\n",
    "Test your app using at least five students.\n",
    "Your header comments need to contain\n",
    "Your name\n",
    "The file name for your app\n",
    "A brief description of what your app will do"
   ]
  },
  {
   "cell_type": "code",
   "execution_count": 2,
   "metadata": {},
   "outputs": [
    {
     "name": "stdout",
     "output_type": "stream",
     "text": [
      "a has no accolades.\n",
      "b has no accolades.\n",
      "c has made the Honor Roll.\n",
      "d has made the Dean's List.\n",
      "e has no accolades.\n",
      "e has no accolades.\n",
      "Have a nice day.\n"
     ]
    }
   ],
   "source": [
    "# set variables\n",
    "\n",
    "student_name: str = \"Cloud Strife\"\n",
    "student_gpa: float = 0.0\n",
    "done: str = \"zzz\"\n",
    "\n",
    "# while loop\n",
    "# user enters names and grades\n",
    "# break condition\n",
    "\n",
    "while student_name != done:\n",
    "    try:\n",
    "        student_name: str = input('Please enter the Student Name,  \"zzz\" to quit: ')\n",
    "        if student_name == done:\n",
    "            print(\"Have a nice day.\")\n",
    "            break\n",
    "\n",
    "        student_gpa: float = float(input('Please enter the Student Grade Point Average: '))\n",
    "        if student_gpa >= 3.5:\n",
    "            print(student_name, \"has made the Dean's List.\")\n",
    "\n",
    "        elif student_gpa >= 3.25:\n",
    "            print(student_name, \"has made the Honor Roll.\")\n",
    "\n",
    "        else:\n",
    "            print(student_name, \"has no accolades.\")\n",
    "\n",
    "    except ValueError:\n",
    "        print(\"Invalid entry.\")\n",
    "\n",
    "# not sure why but I began having an issue where it would begin asking for the next name or grade or both before printing the prior entry and it came out of nowhere because\n",
    "# i hadn't changed anything and it had not been doing that at first\n",
    "# then i went and did something else and came back and it was working fine so no idea what that is about\n"
   ]
  }
 ],
 "metadata": {
  "kernelspec": {
   "display_name": "Python 3",
   "language": "python",
   "name": "python3"
  },
  "language_info": {
   "codemirror_mode": {
    "name": "ipython",
    "version": 3
   },
   "file_extension": ".py",
   "mimetype": "text/x-python",
   "name": "python",
   "nbconvert_exporter": "python",
   "pygments_lexer": "ipython3",
   "version": "3.10.7"
  },
  "orig_nbformat": 4,
  "vscode": {
   "interpreter": {
    "hash": "e8a914dec12599dd06a2bcc1d4cfd5a9ddb25d6f94d43093900ef6128487ba86"
   }
  }
 },
 "nbformat": 4,
 "nbformat_minor": 2
}
