{
 "cells": [
  {
   "attachments": {},
   "cell_type": "markdown",
   "metadata": {},
   "source": [
    "Write a Python app that has the following classes:\n",
    "A super class called Vehicle, which contains an attribute for vehicle type, such as car, truck, plane, boat, or a broomstick.\n",
    "A class called Automobile which will inherit the attributes from Vehicle and also contain the following attributes:\n",
    "year\n",
    "make\n",
    "model\n",
    "doors (2 or 4)\n",
    "roof (solid or sun roof).\n",
    "Write an app that will accept user input for a car. The app will store \"car\" into the vehicle type in your Vehicle super class. \n",
    "The app will then ask the user for the year, make, model, doors, and type of roof and store thdata in the attributes above.\n",
    "The app will then output the data in an easy-to-read and understandable format, such as this:\n",
    "  Vehicle type: car\n",
    "  Year: 2022\n",
    "  Make: Toyota\n",
    "  Model: Corolla\n",
    "  Number of doors: 4\n",
    "  Type of roof: sun roof"
   ]
  },
  {
   "attachments": {},
   "cell_type": "markdown",
   "metadata": {},
   "source": [
    "Kyle Shumate\n",
    "SDEV 140\n",
    "M03 Lab - Case Study: Lists, Functions, and Classes\n",
    "\n",
    "Description:  The program asks the user what type of vehicle they want: the year, the make, the model, the number of doors and whether or not there is a sunroof."
   ]
  },
  {
   "cell_type": "code",
   "execution_count": 10,
   "metadata": {},
   "outputs": [
    {
     "name": "stdout",
     "output_type": "stream",
     "text": [
      "Vehicle type: car\n",
      "Year: 2004\n",
      "Make: Honda\n",
      "Model: Civic\n",
      "Number of doors: 4\n",
      "Type of roof: solid roof\n"
     ]
    }
   ],
   "source": [
    "class Vehicle:\n",
    "    def __init__(self, vehicle#, car, truck, plane, boat, broomstick\n",
    "    ):\n",
    "        self.vehicle = vehicle\n",
    "#        self.car = car\n",
    "#        self.truck = truck\n",
    "#        self.plane = plane\n",
    "#        self.boat = boat\n",
    "#        self.broomstick = broomstick\n",
    "\n",
    "class Automobile(Vehicle):\n",
    "    def __init__(self, vehicle, year, make, model, doors, roof):\n",
    "        super().__init__(vehicle)\n",
    "#        self.car = car\n",
    "#        self.truck = truck\n",
    "#        self.plane = plane\n",
    "#        self.boat = boat\n",
    "#        self.broomstick = broomstick\n",
    "        self.year = year\n",
    "        self.make = make\n",
    "        self.model = model\n",
    "        self.doors = doors\n",
    "        self.roof = roof\n",
    "\n",
    "## input for car\n",
    "\n",
    "vehicle = \"car\"\n",
    "year = input('Enter the car year: ')\n",
    "make = input('Enter the car make: ')\n",
    "model = input('Enter the car model: ')\n",
    "doors = input('Enter the number of doors (2 or 4): ')\n",
    "roof = input('Enter the type of roof (\"solid roof\" or \"sun roof\"): ')\n",
    "\n",
    "## variable for automobile class\n",
    "\n",
    "car = Automobile(vehicle, year, make, model, doors, roof)\n",
    "\n",
    "## output print statements\n",
    "\n",
    "print(\"Vehicle type:\", car.vehicle)\n",
    "print(\"Year:\", car.year)\n",
    "print(\"Make:\", car.make)\n",
    "print(\"Model:\", car.model)\n",
    "print(\"Number of doors:\", car.doors)\n",
    "print(\"Type of roof:\", car.roof)"
   ]
  }
 ],
 "metadata": {
  "kernelspec": {
   "display_name": "Python 3",
   "language": "python",
   "name": "python3"
  },
  "language_info": {
   "codemirror_mode": {
    "name": "ipython",
    "version": 3
   },
   "file_extension": ".py",
   "mimetype": "text/x-python",
   "name": "python",
   "nbconvert_exporter": "python",
   "pygments_lexer": "ipython3",
   "version": "3.10.7 (tags/v3.10.7:6cc6b13, Sep  5 2022, 14:08:36) [MSC v.1933 64 bit (AMD64)]"
  },
  "orig_nbformat": 4,
  "vscode": {
   "interpreter": {
    "hash": "e8a914dec12599dd06a2bcc1d4cfd5a9ddb25d6f94d43093900ef6128487ba86"
   }
  }
 },
 "nbformat": 4,
 "nbformat_minor": 2
}
